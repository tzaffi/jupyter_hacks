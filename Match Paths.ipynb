{
 "cells": [
  {
   "cell_type": "code",
   "execution_count": 1,
   "metadata": {
    "collapsed": true
   },
   "outputs": [],
   "source": [
    "ROOT = '/Users/zephaniahgrunschlag/Desktop/PK2016/files_web_accessible_issue'"
   ]
  },
  {
   "cell_type": "code",
   "execution_count": 6,
   "metadata": {
    "collapsed": false
   },
   "outputs": [
    {
     "name": "stdout",
     "output_type": "stream",
     "text": [
      "total 23904\r\n",
      "-rw-r--r--@ 1 zephaniahgrunschlag  staff    11M Dec 23 10:50 e.listing\r\n",
      "-rw-r--r--@ 1 zephaniahgrunschlag  staff   1.2M Dec 23 10:53 files_web_accessible.listing\r\n"
     ]
    }
   ],
   "source": [
    "ls -ltrh $ROOT"
   ]
  },
  {
   "cell_type": "code",
   "execution_count": null,
   "metadata": {
    "collapsed": false
   },
   "outputs": [],
   "source": [
    "data_root_stuff = !cat \"$ROOT/e.listing\"\n",
    "print len(data_root_stuff)\n",
    "data_root_stuff"
   ]
  },
  {
   "cell_type": "code",
   "execution_count": null,
   "metadata": {
    "collapsed": false
   },
   "outputs": [],
   "source": [
    "fwa_stuff = !cat \"$ROOT/files_web_accessible.listing\"\n",
    "print len(fwa_stuff)\n",
    "fwa_stuff = [ '/'.join(x.split('/')[1:]) for x in fwa_stuff]\n",
    "fwa_stuff = [x for x in fwa_stuff if x not in  ['', '.DS_Store']]\n",
    "print len(fwa_stuff)\n",
    "fwa_stuff"
   ]
  },
  {
   "cell_type": "code",
   "execution_count": null,
   "metadata": {
    "collapsed": false
   },
   "outputs": [],
   "source": [
    "lookup = { '/'.join(x.split('/')[2:]) : x for x in data_root_stuff}\n",
    "lookup"
   ]
  },
  {
   "cell_type": "code",
   "execution_count": null,
   "metadata": {
    "collapsed": false
   },
   "outputs": [],
   "source": [
    "found = {x : lookup[x] for x in fwa_stuff if x in lookup}\n",
    "print(len(found))\n",
    "found"
   ]
  },
  {
   "cell_type": "code",
   "execution_count": null,
   "metadata": {
    "collapsed": false
   },
   "outputs": [],
   "source": [
    "not_found = [x for x in fwa_stuff if x not in found]\n",
    "not_found"
   ]
  },
  {
   "cell_type": "code",
   "execution_count": null,
   "metadata": {
    "collapsed": false
   },
   "outputs": [],
   "source": [
    "found_files_only = { x: found[x] for x in found if len(x.split('/')) > 1 } \n",
    "print(len(found_files_only))\n",
    "found_files_only"
   ]
  },
  {
   "cell_type": "code",
   "execution_count": 60,
   "metadata": {
    "collapsed": false
   },
   "outputs": [
    {
     "data": {
      "text/plain": [
       "{'dataroot_2': 7040, 'dataroot_4': 16304}"
      ]
     },
     "execution_count": 60,
     "metadata": {},
     "output_type": "execute_result"
    }
   ],
   "source": [
    "data_root_cnt = {}\n",
    "for x in found_files_only:\n",
    "    data_root = found_files_only[x].split('/')[1]\n",
    "    data_root_cnt[data_root] = (data_root_cnt[data_root]+1 if data_root in data_root_cnt else 1)\n",
    "data_root_cnt"
   ]
  },
  {
   "cell_type": "code",
   "execution_count": null,
   "metadata": {
    "collapsed": true
   },
   "outputs": [],
   "source": []
  }
 ],
 "metadata": {
  "kernelspec": {
   "display_name": "Python 2",
   "language": "python",
   "name": "python2"
  },
  "language_info": {
   "codemirror_mode": {
    "name": "ipython",
    "version": 2
   },
   "file_extension": ".py",
   "mimetype": "text/x-python",
   "name": "python",
   "nbconvert_exporter": "python",
   "pygments_lexer": "ipython2",
   "version": "2.7.10"
  }
 },
 "nbformat": 4,
 "nbformat_minor": 0
}
